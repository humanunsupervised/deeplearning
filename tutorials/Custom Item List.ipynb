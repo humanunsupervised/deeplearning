{
 "cells": [
  {
   "cell_type": "markdown",
   "metadata": {},
   "source": [
    "# CycleGANs Datablock API\n",
    "\n",
    "The following will build a custom datablock api that encapsulates a data set with items that are tuples of images, which is the type of data that a CycleGAN expects."
   ]
  },
  {
   "cell_type": "code",
   "execution_count": 12,
   "metadata": {},
   "outputs": [],
   "source": [
    "from fastai import *\n",
    "from fastai.core import *\n",
    "from fastai.vision import *\n",
    "\n",
    "%reload_ext autoreload\n",
    "%autoreload 2\n",
    "%matplotlib inline"
   ]
  },
  {
   "cell_type": "code",
   "execution_count": 13,
   "metadata": {},
   "outputs": [],
   "source": [
    "# First we create an Item class to represent a single data item that we pass to our CycleGANs\n",
    "class ImageTupleItem(ItemBase):\n",
    "    \n",
    "    # Item initialis\n",
    "    def __init__(self, img1, img2):\n",
    "        self.img1 = img1\n",
    "        self.img2 = img2\n",
    "        self.obj = (img1, img2) # python object of the tuple of images\n",
    "        self.data = [-1+2*img1.data,-1+2*img2.data] # the underlying tensors representing the images\n",
    "        \n",
    "    # now lets define how we apply data augmentation transforms to our data item\n",
    "    def apply_tfms(self, tfms, **kwargs):\n",
    "        self.img1 = img1.apply_tfms(self, tfms, **kwargs)\n",
    "        self.img2 = img2.apply_tfms(self, tfms, **kwargs)\n",
    "        self.data = [-1+2*self.img1.data,-1+2*self.img2.data]\n",
    "        \n",
    "    # this final method is a custom method. We use this to stack the two images together specific for a CycleGAN\n",
    "    # we'll use this later in a show_batch call\n",
    "    def to_one(self): \n",
    "        return Image(0.5+torch.cat(self.data, 2)/2)\n",
    "    \n",
    "    "
   ]
  },
  {
   "cell_type": "code",
   "execution_count": 14,
   "metadata": {},
   "outputs": [],
   "source": [
    "# Now we create a custom ItemList class for our ImageTuples\n",
    "class ImageTupleList(ImageList):\n",
    "    \n",
    "    # We need two collections of filenames (for the two type of images) \n",
    "    # and we pass these two collections of items into the init, where itemsB is the extra collection\n",
    "    # so we make sure the second one is copied like this:\n",
    "    def __init__(self, items, itemsB=None, **kwargs):\n",
    "        super.__init__(items, **kwargs)\n",
    "        self.itemsB = itemsB\n",
    "        self.copy_new('itemsB')\n",
    "        \n",
    "    def get(self, i):\n",
    "        img1 = super.get(i)\n",
    "        fn = self.itemsB[random.randint(0, lens(self.itemsB)-1)] #now we get a random image from the second list\n",
    "        return ImageTupleItem(img1, open_image(fn))\n",
    "    \n",
    "    # factory helper method which creates image tuples when they are in two seperate directories\n",
    "    @classmethod\n",
    "    def from_folders(cls, path, folderA, folderB, **kwargs):\n",
    "        itemsB = ImageList.from_folder(path/folderB).items\n",
    "        res = super().from_folder(path/folderA, itemsB=itemsB, **kwargs)\n",
    "        res.path = path\n",
    "        return res\n",
    "    \n",
    "    def reconstruct(self, t:Tensor):\n",
    "        return ImageTuple(Image(t[0]/2+0.5),Image(t[1]/2+0.5))\n",
    "    \n",
    "    "
   ]
  },
  {
   "cell_type": "code",
   "execution_count": null,
   "metadata": {},
   "outputs": [],
   "source": []
  }
 ],
 "metadata": {
  "kernelspec": {
   "display_name": "Python 3",
   "language": "python",
   "name": "python3"
  },
  "language_info": {
   "codemirror_mode": {
    "name": "ipython",
    "version": 3
   },
   "file_extension": ".py",
   "mimetype": "text/x-python",
   "name": "python",
   "nbconvert_exporter": "python",
   "pygments_lexer": "ipython3",
   "version": "3.7.1"
  }
 },
 "nbformat": 4,
 "nbformat_minor": 2
}
