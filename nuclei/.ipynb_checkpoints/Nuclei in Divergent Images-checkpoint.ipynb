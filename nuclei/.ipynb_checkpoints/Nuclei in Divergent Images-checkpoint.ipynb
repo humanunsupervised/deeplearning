{
 "cells": [
  {
   "cell_type": "markdown",
   "metadata": {},
   "source": [
    "# Spot Nuclei. Speed Cures.\n",
    "Imagine speeding up research for almost every disease, from lung cancer and heart disease to rare disorders. The 2018 Data Science Bowl offers our most ambitious mission yet: create an algorithm to automate nucleus detection.\n",
    "\n",
    "We’ve all seen people suffer from diseases like cancer, heart disease, chronic obstructive pulmonary disease, Alzheimer’s, and diabetes. Many have seen their loved ones pass away. Think how many lives would be transformed if cures came faster.\n",
    "\n",
    "By automating nucleus detection, you could help unlock cures faster—from rare disorders to the common cold. Want a snapshot about the 2018 Data Science Bowl? View this video.\n",
    "\n",
    "# Why nuclei?\n",
    "Identifying the cells’ nuclei is the starting point for most analyses because most of the human body’s 30 trillion cells contain a nucleus full of DNA, the genetic code that programs each cell. Identifying nuclei allows researchers to identify each individual cell in a sample, and by measuring how cells react to various treatments, the researcher can understand the underlying biological processes at work.\n",
    "\n",
    "By participating, teams will work to automate the process of identifying nuclei, which will allow for more efficient drug testing, shortening the 10 years it takes for each new drug to come to market. Check out this video overview to find out more.\n",
    "\n"
   ]
  },
  {
   "cell_type": "code",
   "execution_count": 1,
   "metadata": {},
   "outputs": [],
   "source": [
    "from fastai.vision import *\n",
    "from fastai.metrics import error_rate\n",
    "\n",
    "# Import Libraries here\n",
    "import os\n",
    "import json \n",
    "import shutil\n",
    "import zipfile\n",
    "\n",
    "%reload_ext autoreload\n",
    "%autoreload 2\n",
    "%matplotlib inline\n",
    "\n",
    "# notebook project directories\n",
    "base_dir = '/hdd/data/nuclei/'\n",
    "\n",
    "!mkdir -p \"{base_dir}\"\n",
    "\n",
    "# set the random seed\n",
    "np.random.seed(2)"
   ]
  },
  {
   "cell_type": "code",
   "execution_count": null,
   "metadata": {},
   "outputs": [],
   "source": [
    "# Download the histopathological data\n",
    "!pip install kaggle\n",
    "!kaggle competitions download -c data-science-bowl-2018 -p \"{base_dir}\""
   ]
  },
  {
   "cell_type": "code",
   "execution_count": 49,
   "metadata": {
    "scrolled": true
   },
   "outputs": [
    {
     "data": {
      "text/plain": [
       "[PosixPath('/hdd/data/nuclei/stage2_sample_submission_final.csv'),\n",
       " PosixPath('/hdd/data/nuclei/stage2_sample_submission_final.csv.zip'),\n",
       " PosixPath('/hdd/data/nuclei/stage1_solution.csv.zip'),\n",
       " PosixPath('/hdd/data/nuclei/stage1_sample_submission.csv'),\n",
       " PosixPath('/hdd/data/nuclei/stage1_solution.csv'),\n",
       " PosixPath('/hdd/data/nuclei/stage1_sample_submission.csv.zip'),\n",
       " PosixPath('/hdd/data/nuclei/stage1_train_labels.csv'),\n",
       " PosixPath('/hdd/data/nuclei/stage1_train_labels.csv.zip'),\n",
       " PosixPath('/hdd/data/nuclei/stage2_test_final.zip'),\n",
       " PosixPath('/hdd/data/nuclei/stage1_test.zip'),\n",
       " PosixPath('/hdd/data/nuclei/stage1_train.zip')]"
      ]
     },
     "execution_count": 49,
     "metadata": {},
     "output_type": "execute_result"
    }
   ],
   "source": [
    "# Check the download here\n",
    "path = Path(base_dir)\n",
    "path.ls()"
   ]
  },
  {
   "cell_type": "code",
   "execution_count": 47,
   "metadata": {},
   "outputs": [],
   "source": [
    "rm -Rf '/hdd/data/nuclei/stage2_sample_submission_final'"
   ]
  },
  {
   "cell_type": "code",
   "execution_count": 53,
   "metadata": {},
   "outputs": [
    {
     "data": {
      "text/plain": [
       "[PosixPath('/hdd/data/nuclei/stage2_sample_submission_final.csv'),\n",
       " PosixPath('/hdd/data/nuclei/stage2_sample_submission_final.csv.zip'),\n",
       " PosixPath('/hdd/data/nuclei/stage1_solution.csv.zip'),\n",
       " PosixPath('/hdd/data/nuclei/stage1_sample_submission.csv'),\n",
       " PosixPath('/hdd/data/nuclei/stage2_test_final'),\n",
       " PosixPath('/hdd/data/nuclei/stage1_solution.csv'),\n",
       " PosixPath('/hdd/data/nuclei/stage1_sample_submission.csv.zip'),\n",
       " PosixPath('/hdd/data/nuclei/stage1_train'),\n",
       " PosixPath('/hdd/data/nuclei/stage1_train_labels.csv'),\n",
       " PosixPath('/hdd/data/nuclei/stage1_train_labels.csv.zip'),\n",
       " PosixPath('/hdd/data/nuclei/stage2_test_final.zip'),\n",
       " PosixPath('/hdd/data/nuclei/stage1_test'),\n",
       " PosixPath('/hdd/data/nuclei/stage1_test.zip'),\n",
       " PosixPath('/hdd/data/nuclei/stage1_train.zip')]"
      ]
     },
     "execution_count": 53,
     "metadata": {},
     "output_type": "execute_result"
    }
   ],
   "source": [
    "#now unzip the test files\n",
    "\n",
    "path = Path(base_dir)\n",
    "path.ls()\n",
    "for zipFilePath in path.ls():\n",
    "    csvIdx = (len(str(zipFilePath)))-8\n",
    "    csvExtension = str(zipFilePath)[csvIdx:]\n",
    "    zipIdx = (len(str(zipFilePath)))-4\n",
    "    zipExtension = str(zipFilePath)[zipIdx:]\n",
    "    if csvExtension == '.csv.zip' :\n",
    "        dest_dir_csv = Path(base_dir)\n",
    "        labels_csv_zip = zipfile.ZipFile(zipFilePath, 'r')\n",
    "        labels_csv_zip.extractall(dest_dir_csv)\n",
    "        labels_csv_zip.close()\n",
    "    elif zipExtension == '.zip':\n",
    "        zipDestDir = str(zipFilePath)[:zipIdx]\n",
    "        !mkdir -p \"{zipDestDir}/\"\n",
    "        dest_dir_images = Path(zipDestDir + '/')\n",
    "        images_zip = zipfile.ZipFile(zipFilePath, 'r')\n",
    "        images_zip.extractall(dest_dir_images)\n",
    "        images_zip.close()\n",
    "        \n",
    "#now check paths to see if they unzipped correctly\n",
    "path.ls()\n"
   ]
  },
  {
   "cell_type": "markdown",
   "metadata": {},
   "source": [
    "# Data Block API\n"
   ]
  },
  {
   "cell_type": "code",
   "execution_count": null,
   "metadata": {},
   "outputs": [],
   "source": [
    "\"\"\"\n",
    "    Here are the key folders and CSVs in the data set:\n",
    "\n",
    "    PosixPath('/hdd/data/nuclei/stage2_test_final'),\n",
    "    PosixPath('/hdd/data/nuclei/stage1_train'),\n",
    "    PosixPath('/hdd/data/nuclei/stage1_test'),\n",
    "    PosixPath('/hdd/data/nuclei/stage1_solution.csv'),\n",
    "    PosixPath('/hdd/data/nuclei/stage1_train_labels.csv'),\n",
    "    PosixPath('/hdd/data/nuclei/stage2_sample_submission_final.csv'),\n",
    "    PosixPath('/hdd/data/nuclei/stage1_sample_submission.csv'),\n",
    "\n",
    "    In the train folder we have the following structure\n",
    "    \n",
    "    stage1_train/\n",
    "        f534b43bf37ff946a310a0f08315d76c3fb3394681cf523acef7c0682240072a/\n",
    "            -> images/\n",
    "            -> masks/\n",
    "    \n",
    "\"\"\"\n",
    "\n",
    "path_img_train = base_dir + 'stage1_train' # need to split this folder into train and val sets\n",
    "path_img_test = base_dir + 'stage1_test' # images only, use to test\n",
    "\n",
    "data = (SegmentationItemList.from_folder(path_img_train)\n",
    "        #Where to find the data? -> in path_img and its subfolders\n",
    "        .split_by_rand_pct()\n",
    "        #How to split in train/valid? -> randomly with the default 20% in valid\n",
    "        .label_from_func(get_y_fn, classes=codes)\n",
    "        #How to label? -> use the label function on the file name of the data\n",
    "        .transform(get_transforms(), tfm_y=True, size=128)\n",
    "        #Data augmentation? -> use tfms with a size of 128, also transform the label images\n",
    "        .databunch())"
   ]
  }
 ],
 "metadata": {
  "kernelspec": {
   "display_name": "Python 3",
   "language": "python",
   "name": "python3"
  },
  "language_info": {
   "codemirror_mode": {
    "name": "ipython",
    "version": 3
   },
   "file_extension": ".py",
   "mimetype": "text/x-python",
   "name": "python",
   "nbconvert_exporter": "python",
   "pygments_lexer": "ipython3",
   "version": "3.7.1"
  }
 },
 "nbformat": 4,
 "nbformat_minor": 2
}
