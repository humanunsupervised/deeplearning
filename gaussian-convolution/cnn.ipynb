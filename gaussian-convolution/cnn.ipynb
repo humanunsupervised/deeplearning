{
 "cells": [
  {
   "cell_type": "markdown",
   "metadata": {},
   "source": [
    "## Convolutional Neural Networks\n",
    "\n",
    "\n",
    "### Load data\n",
    "\n",
    "Once you find the dataset you want to apply a CNN network to, pre-process the data and get it into a format that the CNN will understand.\n",
    "\n",
    "Some things that you may need to think about include:\n",
    "\n",
    "- The dimensionality of the images that you may be working with. (e.g. N x H x W X C)\n",
    "- Expressing image data as tensors\n",
    "- Other pre-processing tasks such as cropping etc\n",
    "\n",
    "\n",
    "### Normalizing the dataset\n",
    "\n",
    "We are trying to express or represent invariances in the data. We normalise our data so that we can **speed up learning** about these invariances\n",
    "\n",
    "#### Mean normalisation\n",
    "\n",
    "Mean normalisation is\n",
    "\n",
    "- Subtracting the **mean** from each image\n",
    "- then dividing by the **standard deviation**\n",
    "\n",
    "#### Re-scaling\n",
    "\n",
    "We apply another type of normalization to 0-1 just for the purposes of plotting the image.  If we didn't do this, the range of our values would be somewhere between -1 and 1, and matplotlib would not be able to interpret the entire range of values.  By rescaling our -1 to 1 valued images to 0-1, we can visualize it better.\n",
    "\n",
    "\n",
    "## Convolute images with a Gabor / Gaussian Kernel\n",
    "\n",
    "\n",
    "\n",
    "## Apply max-pooling on convoluted result\n",
    "\n",
    "\n",
    "Maxpooling downsamples **the convolved image**. Maxpooling helps create abstraction of the features that were learned by the convolution operation so that it is better able to generalise to new samples.\n",
    "\n",
    "\n",
    "\n",
    "## Connect to a fully connected DNN\n",
    "\n"
   ]
  },
  {
   "cell_type": "markdown",
   "metadata": {},
   "source": [
    "First lets load some dependencies"
   ]
  },
  {
   "cell_type": "code",
   "execution_count": 3,
   "metadata": {},
   "outputs": [],
   "source": [
    "%matplotlib inline\n",
    "import numpy as np\n",
    "import matplotlib.pyplot as plt\n",
    "plt.style.use('ggplot')\n"
   ]
  },
  {
   "cell_type": "markdown",
   "metadata": {},
   "source": []
  }
 ],
 "metadata": {
  "kernelspec": {
   "display_name": "Python 3",
   "language": "python",
   "name": "python3"
  },
  "language_info": {
   "codemirror_mode": {
    "name": "ipython",
    "version": 3
   },
   "file_extension": ".py",
   "mimetype": "text/x-python",
   "name": "python",
   "nbconvert_exporter": "python",
   "pygments_lexer": "ipython3",
   "version": "3.7.0"
  }
 },
 "nbformat": 4,
 "nbformat_minor": 2
}
